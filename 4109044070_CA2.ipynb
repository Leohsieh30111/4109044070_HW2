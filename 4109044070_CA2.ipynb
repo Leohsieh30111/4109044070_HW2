{
  "nbformat": 4,
  "nbformat_minor": 0,
  "metadata": {
    "colab": {
      "provenance": []
    },
    "kernelspec": {
      "name": "python3",
      "display_name": "Python 3"
    },
    "language_info": {
      "name": "python"
    }
  },
  "cells": [
    {
      "cell_type": "code",
      "execution_count": 1,
      "metadata": {
        "id": "10QCMinOhVjW",
        "colab": {
          "base_uri": "https://localhost:8080/"
        },
        "outputId": "268f6f41-b573-4cba-8a1f-5d7eb5b80eeb"
      },
      "outputs": [
        {
          "output_type": "stream",
          "name": "stdout",
          "text": [
            "請輸入 page_table 0: 5\n",
            "請輸入 page_table 1: 9\n",
            "請輸入 page_table 2: 14\n",
            "請輸入 logical address: 7000\n",
            "The physical address is 39768\n"
          ]
        }
      ],
      "source": [
        "def memory_addressing(page_table, page_size, logical_address):\n",
        "\n",
        "    page_number, offset = divmod(logical_address, page_size)\n",
        "\n",
        "    if page_number in page_table:\n",
        "        frame_number = page_table[page_number]\n",
        "        physical_address = frame_number * page_size + offset\n",
        "        print(f\"The physical address is {physical_address}\")\n",
        "    else:\n",
        "        print(\"Invalid page number, address translation failed.\")\n",
        "\n",
        "page_table = {0: 0, 1: 0, 2: 0}\n",
        "\n",
        "for i in range(3):\n",
        "    frame_number = int(input(f\"請輸入 page_table {i}: \"))\n",
        "    page_table[i] = frame_number\n",
        "\n",
        "page_size = 4096\n",
        "\n",
        "logical_address = int(input(\"請輸入 logical address: \"))\n",
        "\n",
        "memory_addressing(page_table, page_size, logical_address)"
      ]
    }
  ]
}